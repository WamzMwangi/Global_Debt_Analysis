{
 "cells": [
  {
   "cell_type": "code",
   "execution_count": 37,
   "id": "fdc21613-b77f-46c4-af27-07f2430afde6",
   "metadata": {},
   "outputs": [],
   "source": [
    "import pandas as pd\n",
    "import numpy as np\n",
    "import seaborn as sns\n",
    "import matplotlib.pyplot as plt"
   ]
  },
  {
   "cell_type": "markdown",
   "id": "d39625ca-3385-4b34-942c-90e2beba63e2",
   "metadata": {},
   "source": [
    "## Analysis of Central Government Debt across countries of different income levels"
   ]
  },
  {
   "cell_type": "markdown",
   "id": "8d69d11c-30d7-414c-b2d0-4c09ecf975ae",
   "metadata": {},
   "source": [
    "#### Data Cleaning\n"
   ]
  },
  {
   "cell_type": "code",
   "execution_count": 38,
   "id": "a7474d09-091a-49c3-ae03-acc34b4dcad8",
   "metadata": {},
   "outputs": [],
   "source": [
    "#read data\n",
    "file_path=r\"C:\\Users\\User\\Desktop\\Global Debt Database\\central_government_debt.csv\"\n",
    "central_govdebt=pd.read_csv(file_path,encoding='latin1')"
   ]
  },
  {
   "cell_type": "code",
   "execution_count": 39,
   "id": "94e34ecb-7133-433e-8d12-0ef1a52b71f7",
   "metadata": {},
   "outputs": [],
   "source": [
    "tidy_df = pd.melt(central_govdebt, id_vars=['country_name', 'indicator_name'], var_name='year', value_name='debt_value')"
   ]
  },
  {
   "cell_type": "code",
   "execution_count": 40,
   "id": "64c730c0-d358-4e85-8cbb-67630623a41e",
   "metadata": {},
   "outputs": [
    {
     "data": {
      "text/html": [
       "<div>\n",
       "<style scoped>\n",
       "    .dataframe tbody tr th:only-of-type {\n",
       "        vertical-align: middle;\n",
       "    }\n",
       "\n",
       "    .dataframe tbody tr th {\n",
       "        vertical-align: top;\n",
       "    }\n",
       "\n",
       "    .dataframe thead th {\n",
       "        text-align: right;\n",
       "    }\n",
       "</style>\n",
       "<table border=\"1\" class=\"dataframe\">\n",
       "  <thead>\n",
       "    <tr style=\"text-align: right;\">\n",
       "      <th></th>\n",
       "      <th>country_name</th>\n",
       "      <th>indicator_name</th>\n",
       "      <th>year</th>\n",
       "      <th>debt_value</th>\n",
       "    </tr>\n",
       "  </thead>\n",
       "  <tbody>\n",
       "    <tr>\n",
       "      <th>0</th>\n",
       "      <td>Afghanistan</td>\n",
       "      <td>Annual average of central government debt (Per...</td>\n",
       "      <td>1950</td>\n",
       "      <td>NaN</td>\n",
       "    </tr>\n",
       "    <tr>\n",
       "      <th>1</th>\n",
       "      <td>Albania</td>\n",
       "      <td>Annual average of central government debt (Per...</td>\n",
       "      <td>1950</td>\n",
       "      <td>NaN</td>\n",
       "    </tr>\n",
       "    <tr>\n",
       "      <th>2</th>\n",
       "      <td>Algeria</td>\n",
       "      <td>Annual average of central government debt (Per...</td>\n",
       "      <td>1950</td>\n",
       "      <td>NaN</td>\n",
       "    </tr>\n",
       "    <tr>\n",
       "      <th>3</th>\n",
       "      <td>Angola</td>\n",
       "      <td>Annual average of central government debt (Per...</td>\n",
       "      <td>1950</td>\n",
       "      <td>NaN</td>\n",
       "    </tr>\n",
       "    <tr>\n",
       "      <th>4</th>\n",
       "      <td>Antigua and Barbuda</td>\n",
       "      <td>Annual average of central government debt (Per...</td>\n",
       "      <td>1950</td>\n",
       "      <td>NaN</td>\n",
       "    </tr>\n",
       "  </tbody>\n",
       "</table>\n",
       "</div>"
      ],
      "text/plain": [
       "          country_name                                     indicator_name  \\\n",
       "0          Afghanistan  Annual average of central government debt (Per...   \n",
       "1              Albania  Annual average of central government debt (Per...   \n",
       "2              Algeria  Annual average of central government debt (Per...   \n",
       "3               Angola  Annual average of central government debt (Per...   \n",
       "4  Antigua and Barbuda  Annual average of central government debt (Per...   \n",
       "\n",
       "   year  debt_value  \n",
       "0  1950         NaN  \n",
       "1  1950         NaN  \n",
       "2  1950         NaN  \n",
       "3  1950         NaN  \n",
       "4  1950         NaN  "
      ]
     },
     "execution_count": 40,
     "metadata": {},
     "output_type": "execute_result"
    }
   ],
   "source": [
    "tidy_df.head()"
   ]
  },
  {
   "cell_type": "code",
   "execution_count": 41,
   "id": "cd0223df-0a63-4434-b27e-6cf68fc7d823",
   "metadata": {},
   "outputs": [],
   "source": [
    "#Filter out to include only sample countries\n",
    "countries=['Chad','Niger','Burkina Faso','Sri Lanka','Bolivia','Kenya','Mexico','Argentina',\n",
    "           'Indonesia','Saudi Arabia','Germany','United States']"
   ]
  },
  {
   "cell_type": "code",
   "execution_count": 42,
   "id": "c2df60af-04e9-4729-b054-c154860a9d2c",
   "metadata": {},
   "outputs": [],
   "source": [
    "tidy_df=tidy_df[tidy_df['country_name'].isin(countries)]"
   ]
  },
  {
   "cell_type": "code",
   "execution_count": 43,
   "id": "5bdd13ce-49db-4808-bacd-e87b6ff70c80",
   "metadata": {},
   "outputs": [
    {
     "data": {
      "text/plain": [
       "country_name\n",
       "Argentina        73\n",
       "Bolivia          73\n",
       "Burkina Faso     73\n",
       "Chad             73\n",
       "Germany          73\n",
       "Indonesia        73\n",
       "Kenya            73\n",
       "Mexico           73\n",
       "Niger            73\n",
       "Saudi Arabia     73\n",
       "Sri Lanka        73\n",
       "United States    73\n",
       "Name: count, dtype: int64"
      ]
     },
     "execution_count": 43,
     "metadata": {},
     "output_type": "execute_result"
    }
   ],
   "source": [
    "tidy_df['country_name'].value_counts()"
   ]
  },
  {
   "cell_type": "code",
   "execution_count": 44,
   "id": "925ce0d1-c76a-45f3-9629-dcc1cb89d579",
   "metadata": {},
   "outputs": [
    {
     "name": "stdout",
     "output_type": "stream",
     "text": [
      "<class 'pandas.core.frame.DataFrame'>\n",
      "Index: 876 entries, 5 to 12620\n",
      "Data columns (total 4 columns):\n",
      " #   Column          Non-Null Count  Dtype  \n",
      "---  ------          --------------  -----  \n",
      " 0   country_name    876 non-null    object \n",
      " 1   indicator_name  876 non-null    object \n",
      " 2   year            876 non-null    object \n",
      " 3   debt_value      707 non-null    float64\n",
      "dtypes: float64(1), object(3)\n",
      "memory usage: 34.2+ KB\n"
     ]
    }
   ],
   "source": [
    "tidy_df.info()"
   ]
  },
  {
   "cell_type": "code",
   "execution_count": 45,
   "id": "bcf9b0b0-313a-4b2e-baa4-84cc9cbb74b2",
   "metadata": {},
   "outputs": [],
   "source": [
    "#filter out years outside 2010-2022\n",
    "years=['2010','2011','2012','2013','2014','2015','2016','2017','2018','2019','2020','2021','2022']\n",
    "tidy_df=tidy_df.loc[tidy_df['year'].isin(years)]"
   ]
  },
  {
   "cell_type": "code",
   "execution_count": 46,
   "id": "d971f359-71db-42be-bb79-b7d67dc65b80",
   "metadata": {},
   "outputs": [
    {
     "data": {
      "text/html": [
       "<div>\n",
       "<style scoped>\n",
       "    .dataframe tbody tr th:only-of-type {\n",
       "        vertical-align: middle;\n",
       "    }\n",
       "\n",
       "    .dataframe tbody tr th {\n",
       "        vertical-align: top;\n",
       "    }\n",
       "\n",
       "    .dataframe thead th {\n",
       "        text-align: right;\n",
       "    }\n",
       "</style>\n",
       "<table border=\"1\" class=\"dataframe\">\n",
       "  <thead>\n",
       "    <tr style=\"text-align: right;\">\n",
       "      <th></th>\n",
       "      <th>country_name</th>\n",
       "      <th>indicator_name</th>\n",
       "      <th>year</th>\n",
       "      <th>debt_value</th>\n",
       "    </tr>\n",
       "  </thead>\n",
       "  <tbody>\n",
       "    <tr>\n",
       "      <th>10385</th>\n",
       "      <td>Argentina</td>\n",
       "      <td>Annual average of central government debt (Per...</td>\n",
       "      <td>2010</td>\n",
       "      <td>43.454315</td>\n",
       "    </tr>\n",
       "    <tr>\n",
       "      <th>10399</th>\n",
       "      <td>Bolivia</td>\n",
       "      <td>Annual average of central government debt (Per...</td>\n",
       "      <td>2010</td>\n",
       "      <td>34.407332</td>\n",
       "    </tr>\n",
       "    <tr>\n",
       "      <th>10405</th>\n",
       "      <td>Burkina Faso</td>\n",
       "      <td>Annual average of central government debt (Per...</td>\n",
       "      <td>2010</td>\n",
       "      <td>27.819274</td>\n",
       "    </tr>\n",
       "    <tr>\n",
       "      <th>10411</th>\n",
       "      <td>Chad</td>\n",
       "      <td>Annual average of central government debt (Per...</td>\n",
       "      <td>2010</td>\n",
       "      <td>30.050703</td>\n",
       "    </tr>\n",
       "    <tr>\n",
       "      <th>10437</th>\n",
       "      <td>Germany</td>\n",
       "      <td>Annual average of central government debt (Per...</td>\n",
       "      <td>2010</td>\n",
       "      <td>52.143191</td>\n",
       "    </tr>\n",
       "    <tr>\n",
       "      <th>...</th>\n",
       "      <td>...</td>\n",
       "      <td>...</td>\n",
       "      <td>...</td>\n",
       "      <td>...</td>\n",
       "    </tr>\n",
       "    <tr>\n",
       "      <th>12557</th>\n",
       "      <td>Mexico</td>\n",
       "      <td>Annual average of central government debt (Per...</td>\n",
       "      <td>2022</td>\n",
       "      <td>40.858075</td>\n",
       "    </tr>\n",
       "    <tr>\n",
       "      <th>12568</th>\n",
       "      <td>Niger</td>\n",
       "      <td>Annual average of central government debt (Per...</td>\n",
       "      <td>2022</td>\n",
       "      <td>51.075502</td>\n",
       "    </tr>\n",
       "    <tr>\n",
       "      <th>12588</th>\n",
       "      <td>Saudi Arabia</td>\n",
       "      <td>Annual average of central government debt (Per...</td>\n",
       "      <td>2022</td>\n",
       "      <td>22.572861</td>\n",
       "    </tr>\n",
       "    <tr>\n",
       "      <th>12600</th>\n",
       "      <td>Sri Lanka</td>\n",
       "      <td>Annual average of central government debt (Per...</td>\n",
       "      <td>2022</td>\n",
       "      <td>117.661325</td>\n",
       "    </tr>\n",
       "    <tr>\n",
       "      <th>12620</th>\n",
       "      <td>United States</td>\n",
       "      <td>Annual average of central government debt (Per...</td>\n",
       "      <td>2022</td>\n",
       "      <td>110.146803</td>\n",
       "    </tr>\n",
       "  </tbody>\n",
       "</table>\n",
       "<p>156 rows × 4 columns</p>\n",
       "</div>"
      ],
      "text/plain": [
       "        country_name                                     indicator_name  year  \\\n",
       "10385      Argentina  Annual average of central government debt (Per...  2010   \n",
       "10399        Bolivia  Annual average of central government debt (Per...  2010   \n",
       "10405   Burkina Faso  Annual average of central government debt (Per...  2010   \n",
       "10411           Chad  Annual average of central government debt (Per...  2010   \n",
       "10437        Germany  Annual average of central government debt (Per...  2010   \n",
       "...              ...                                                ...   ...   \n",
       "12557         Mexico  Annual average of central government debt (Per...  2022   \n",
       "12568          Niger  Annual average of central government debt (Per...  2022   \n",
       "12588   Saudi Arabia  Annual average of central government debt (Per...  2022   \n",
       "12600      Sri Lanka  Annual average of central government debt (Per...  2022   \n",
       "12620  United States  Annual average of central government debt (Per...  2022   \n",
       "\n",
       "       debt_value  \n",
       "10385   43.454315  \n",
       "10399   34.407332  \n",
       "10405   27.819274  \n",
       "10411   30.050703  \n",
       "10437   52.143191  \n",
       "...           ...  \n",
       "12557   40.858075  \n",
       "12568   51.075502  \n",
       "12588   22.572861  \n",
       "12600  117.661325  \n",
       "12620  110.146803  \n",
       "\n",
       "[156 rows x 4 columns]"
      ]
     },
     "execution_count": 46,
     "metadata": {},
     "output_type": "execute_result"
    }
   ],
   "source": [
    "tidy_df"
   ]
  },
  {
   "cell_type": "code",
   "execution_count": 47,
   "id": "1ae7c846-e83f-4bba-9793-81d1dae1da9d",
   "metadata": {},
   "outputs": [],
   "source": [
    "# Add a column of income levels to make groupby easy\n",
    "income_levels = {\n",
    "    'Argentina': 'Upper-middle Income',\n",
    "    'Bolivia': 'Lower-middle Income',\n",
    "    'Burkina Faso': 'Low Income',\n",
    "    'Chad':'Low Income',\n",
    "    'Germany':'High Income',\n",
    "    'Indonesia':'Upper-middle Income',\n",
    "    'Kenya':'Lower-middle Income',\n",
    "    'Mexico':'Upper-middle Income',\n",
    "    'Niger':'Low Income',\n",
    "    'Saudi Arabia':'High Income',\n",
    "    'Sri Lanka':'Lower-middle Income',\n",
    "    'United States':'High Income'}"
   ]
  },
  {
   "cell_type": "code",
   "execution_count": 48,
   "id": "475b4ebb-640a-473e-aae5-b385fd4c87d0",
   "metadata": {},
   "outputs": [],
   "source": [
    "tidy_df['income_level'] = tidy_df['country_name'].map(income_levels)"
   ]
  },
  {
   "cell_type": "code",
   "execution_count": 49,
   "id": "3bcc3201-7fec-4eaa-8a49-cb64cc64a59c",
   "metadata": {},
   "outputs": [
    {
     "data": {
      "text/html": [
       "<div>\n",
       "<style scoped>\n",
       "    .dataframe tbody tr th:only-of-type {\n",
       "        vertical-align: middle;\n",
       "    }\n",
       "\n",
       "    .dataframe tbody tr th {\n",
       "        vertical-align: top;\n",
       "    }\n",
       "\n",
       "    .dataframe thead th {\n",
       "        text-align: right;\n",
       "    }\n",
       "</style>\n",
       "<table border=\"1\" class=\"dataframe\">\n",
       "  <thead>\n",
       "    <tr style=\"text-align: right;\">\n",
       "      <th></th>\n",
       "      <th>country_name</th>\n",
       "      <th>indicator_name</th>\n",
       "      <th>year</th>\n",
       "      <th>debt_value</th>\n",
       "      <th>income_level</th>\n",
       "    </tr>\n",
       "  </thead>\n",
       "  <tbody>\n",
       "    <tr>\n",
       "      <th>10385</th>\n",
       "      <td>Argentina</td>\n",
       "      <td>Annual average of central government debt (Per...</td>\n",
       "      <td>2010</td>\n",
       "      <td>43.454315</td>\n",
       "      <td>Upper-middle Income</td>\n",
       "    </tr>\n",
       "    <tr>\n",
       "      <th>10399</th>\n",
       "      <td>Bolivia</td>\n",
       "      <td>Annual average of central government debt (Per...</td>\n",
       "      <td>2010</td>\n",
       "      <td>34.407332</td>\n",
       "      <td>Lower-middle Income</td>\n",
       "    </tr>\n",
       "    <tr>\n",
       "      <th>10405</th>\n",
       "      <td>Burkina Faso</td>\n",
       "      <td>Annual average of central government debt (Per...</td>\n",
       "      <td>2010</td>\n",
       "      <td>27.819274</td>\n",
       "      <td>Low Income</td>\n",
       "    </tr>\n",
       "    <tr>\n",
       "      <th>10411</th>\n",
       "      <td>Chad</td>\n",
       "      <td>Annual average of central government debt (Per...</td>\n",
       "      <td>2010</td>\n",
       "      <td>30.050703</td>\n",
       "      <td>Low Income</td>\n",
       "    </tr>\n",
       "    <tr>\n",
       "      <th>10437</th>\n",
       "      <td>Germany</td>\n",
       "      <td>Annual average of central government debt (Per...</td>\n",
       "      <td>2010</td>\n",
       "      <td>52.143191</td>\n",
       "      <td>High Income</td>\n",
       "    </tr>\n",
       "  </tbody>\n",
       "</table>\n",
       "</div>"
      ],
      "text/plain": [
       "       country_name                                     indicator_name  year  \\\n",
       "10385     Argentina  Annual average of central government debt (Per...  2010   \n",
       "10399       Bolivia  Annual average of central government debt (Per...  2010   \n",
       "10405  Burkina Faso  Annual average of central government debt (Per...  2010   \n",
       "10411          Chad  Annual average of central government debt (Per...  2010   \n",
       "10437       Germany  Annual average of central government debt (Per...  2010   \n",
       "\n",
       "       debt_value         income_level  \n",
       "10385   43.454315  Upper-middle Income  \n",
       "10399   34.407332  Lower-middle Income  \n",
       "10405   27.819274           Low Income  \n",
       "10411   30.050703           Low Income  \n",
       "10437   52.143191          High Income  "
      ]
     },
     "execution_count": 49,
     "metadata": {},
     "output_type": "execute_result"
    }
   ],
   "source": [
    "tidy_df.head()"
   ]
  },
  {
   "cell_type": "markdown",
   "id": "b767ea0a-b01a-4fc0-b38a-ca288e5585b4",
   "metadata": {},
   "source": [
    "### Comparing debt across different income bands- Using average debt between 2010-2022:12 year average."
   ]
  },
  {
   "cell_type": "code",
   "execution_count": 50,
   "id": "1c883100-ad0e-4e5d-b648-df147c775ed2",
   "metadata": {},
   "outputs": [],
   "source": [
    "average_debt = pd.DataFrame(tidy_df.groupby(['country_name','income_level'])['debt_value'].mean())\n"
   ]
  },
  {
   "cell_type": "code",
   "execution_count": 51,
   "id": "7876a642-4bed-4c63-b3a5-01573a89b490",
   "metadata": {},
   "outputs": [],
   "source": [
    "data=average_debt.reset_index()"
   ]
  },
  {
   "cell_type": "code",
   "execution_count": 52,
   "id": "0da2adf4-6461-4267-aa49-fa24960c7b57",
   "metadata": {},
   "outputs": [
    {
     "data": {
      "text/html": [
       "<div>\n",
       "<style scoped>\n",
       "    .dataframe tbody tr th:only-of-type {\n",
       "        vertical-align: middle;\n",
       "    }\n",
       "\n",
       "    .dataframe tbody tr th {\n",
       "        vertical-align: top;\n",
       "    }\n",
       "\n",
       "    .dataframe thead th {\n",
       "        text-align: right;\n",
       "    }\n",
       "</style>\n",
       "<table border=\"1\" class=\"dataframe\">\n",
       "  <thead>\n",
       "    <tr style=\"text-align: right;\">\n",
       "      <th></th>\n",
       "      <th>country_name</th>\n",
       "      <th>income_level</th>\n",
       "      <th>debt_value</th>\n",
       "    </tr>\n",
       "  </thead>\n",
       "  <tbody>\n",
       "    <tr>\n",
       "      <th>0</th>\n",
       "      <td>Argentina</td>\n",
       "      <td>Upper-middle Income</td>\n",
       "      <td>62.764456</td>\n",
       "    </tr>\n",
       "    <tr>\n",
       "      <th>1</th>\n",
       "      <td>Bolivia</td>\n",
       "      <td>Lower-middle Income</td>\n",
       "      <td>39.004424</td>\n",
       "    </tr>\n",
       "    <tr>\n",
       "      <th>2</th>\n",
       "      <td>Burkina Faso</td>\n",
       "      <td>Low Income</td>\n",
       "      <td>34.427074</td>\n",
       "    </tr>\n",
       "    <tr>\n",
       "      <th>3</th>\n",
       "      <td>Chad</td>\n",
       "      <td>Low Income</td>\n",
       "      <td>43.121317</td>\n",
       "    </tr>\n",
       "    <tr>\n",
       "      <th>4</th>\n",
       "      <td>Germany</td>\n",
       "      <td>High Income</td>\n",
       "      <td>45.812420</td>\n",
       "    </tr>\n",
       "  </tbody>\n",
       "</table>\n",
       "</div>"
      ],
      "text/plain": [
       "   country_name         income_level  debt_value\n",
       "0     Argentina  Upper-middle Income   62.764456\n",
       "1       Bolivia  Lower-middle Income   39.004424\n",
       "2  Burkina Faso           Low Income   34.427074\n",
       "3          Chad           Low Income   43.121317\n",
       "4       Germany          High Income   45.812420"
      ]
     },
     "execution_count": 52,
     "metadata": {},
     "output_type": "execute_result"
    }
   ],
   "source": [
    "data.head()"
   ]
  },
  {
   "cell_type": "code",
   "execution_count": 61,
   "id": "c323f818-88b6-4143-ad80-9683e179dac5",
   "metadata": {},
   "outputs": [],
   "source": [
    "# Create a bar chart with Seaborn\n",
    "\n",
    "#order=['Low Income','Lower-middle Income','Upper-middle Income','High Income']\n",
    "#sns.catplot(x=\"country_name\", y=\"debt_value\", hue=\"income_level\", data=data,kind='bar')\n",
    "# Rotate x labels for better readability\n",
    "#plt.xticks(rotation=45)\n",
    "#plt.show()"
   ]
  },
  {
   "cell_type": "code",
   "execution_count": 66,
   "id": "c8dc6d5b-18a2-4fec-b4f0-39a3f4ed33b1",
   "metadata": {},
   "outputs": [
    {
     "data": {
      "image/png": "[encoded data removed]",
      "text/plain": [
       "<Figure size 640x480 with 1 Axes>"
      ]
     },
     "metadata": {},
     "output_type": "display_data"
    }
   ],
   "source": [
    "# Group the data by income level\n",
    "grouped_data = data.groupby('income_level')\n",
    "\n",
    "# Plot the bars for each income level group\n",
    "for level, group in grouped_data:\n",
    "    plt.bar(group['country_name'], group['debt_value'], label=level)\n",
    "\n",
    "\n",
    "plt.legend(title='Income Level')\n",
    "plt.xlabel('Country')\n",
    "plt.ylabel('Debt Value')\n",
    "plt.title('Debt Value by Country and Income Level')\n",
    "plt.tight_layout()\n",
    "plt.show()\n"
   ]
  },
  {
   "cell_type": "code",
   "execution_count": null,
   "id": "952bc438-5aef-4758-a8b7-cf0ede996c2d",
   "metadata": {},
   "outputs": [],
   "source": []
  }
 ],
 "metadata": {
  "kernelspec": {
   "display_name": "Python 3 (ipykernel)",
   "language": "python",
   "name": "python3"
  },
  "language_info": {
   "codemirror_mode": {
    "name": "ipython",
    "version": 3
   },
   "file_extension": ".py",
   "mimetype": "text/x-python",
   "name": "python",
   "nbconvert_exporter": "python",
   "pygments_lexer": "ipython3",
   "version": "3.11.4"
  }
 },
 "nbformat": 4,
 "nbformat_minor": 5
}
