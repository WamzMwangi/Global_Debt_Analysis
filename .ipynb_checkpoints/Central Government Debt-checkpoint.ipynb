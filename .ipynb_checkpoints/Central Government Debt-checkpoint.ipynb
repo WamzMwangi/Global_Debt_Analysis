{
 "cells": [
  {
   "cell_type": "code",
   "execution_count": 1,
   "id": "fdc21613-b77f-46c4-af27-07f2430afde6",
   "metadata": {},
   "outputs": [],
   "source": [
    "import pandas as pd\n",
    "import numpy as np\n",
    "import seaborn as sns\n",
    "import matplotlib.pyplot as plt"
   ]
  },
  {
   "cell_type": "markdown",
   "id": "d39625ca-3385-4b34-942c-90e2beba63e2",
   "metadata": {},
   "source": [
    "## Analysis of Central Government Debt across income levels"
   ]
  },
  {
   "cell_type": "markdown",
   "id": "8d69d11c-30d7-414c-b2d0-4c09ecf975ae",
   "metadata": {},
   "source": [
    "#### Data Cleaning\n",
    "The analysis will sample 3 countries in each income level."
   ]
  },
  {
   "cell_type": "code",
   "execution_count": 14,
   "id": "a7474d09-091a-49c3-ae03-acc34b4dcad8",
   "metadata": {},
   "outputs": [],
   "source": [
    "#read data\n",
    "file_path=r\"C:\\Users\\User\\Desktop\\Global Debt Database\\central_government_debt.csv\"\n",
    "central_govdebt=pd.read_csv(file_path,encoding='latin1')"
   ]
  },
  {
   "cell_type": "code",
   "execution_count": 45,
   "id": "b107df0a-11f8-4205-9786-eb301dbf8962",
   "metadata": {},
   "outputs": [
    {
     "data": {
      "text/html": [
       "<div>\n",
       "<style scoped>\n",
       "    .dataframe tbody tr th:only-of-type {\n",
       "        vertical-align: middle;\n",
       "    }\n",
       "\n",
       "    .dataframe tbody tr th {\n",
       "        vertical-align: top;\n",
       "    }\n",
       "\n",
       "    .dataframe thead th {\n",
       "        text-align: right;\n",
       "    }\n",
       "</style>\n",
       "<table border=\"1\" class=\"dataframe\">\n",
       "  <thead>\n",
       "    <tr style=\"text-align: right;\">\n",
       "      <th></th>\n",
       "      <th>country_name</th>\n",
       "      <th>indicator_name</th>\n",
       "      <th>1950</th>\n",
       "      <th>1951</th>\n",
       "      <th>1952</th>\n",
       "      <th>1953</th>\n",
       "      <th>1954</th>\n",
       "      <th>1955</th>\n",
       "      <th>1956</th>\n",
       "      <th>1957</th>\n",
       "      <th>...</th>\n",
       "      <th>2013</th>\n",
       "      <th>2014</th>\n",
       "      <th>2015</th>\n",
       "      <th>2016</th>\n",
       "      <th>2017</th>\n",
       "      <th>2018</th>\n",
       "      <th>2019</th>\n",
       "      <th>2020</th>\n",
       "      <th>2021</th>\n",
       "      <th>2022</th>\n",
       "    </tr>\n",
       "  </thead>\n",
       "  <tbody>\n",
       "    <tr>\n",
       "      <th>0</th>\n",
       "      <td>Afghanistan</td>\n",
       "      <td>Annual average of central government debt (Per...</td>\n",
       "      <td>NaN</td>\n",
       "      <td>NaN</td>\n",
       "      <td>NaN</td>\n",
       "      <td>NaN</td>\n",
       "      <td>NaN</td>\n",
       "      <td>NaN</td>\n",
       "      <td>NaN</td>\n",
       "      <td>NaN</td>\n",
       "      <td>...</td>\n",
       "      <td>6.904479</td>\n",
       "      <td>8.700291</td>\n",
       "      <td>9.154083</td>\n",
       "      <td>8.437266</td>\n",
       "      <td>7.997660</td>\n",
       "      <td>7.384413</td>\n",
       "      <td>6.130410</td>\n",
       "      <td>7.397495</td>\n",
       "      <td>NaN</td>\n",
       "      <td>NaN</td>\n",
       "    </tr>\n",
       "    <tr>\n",
       "      <th>1</th>\n",
       "      <td>Albania</td>\n",
       "      <td>Annual average of central government debt (Per...</td>\n",
       "      <td>NaN</td>\n",
       "      <td>NaN</td>\n",
       "      <td>NaN</td>\n",
       "      <td>NaN</td>\n",
       "      <td>NaN</td>\n",
       "      <td>NaN</td>\n",
       "      <td>NaN</td>\n",
       "      <td>NaN</td>\n",
       "      <td>...</td>\n",
       "      <td>65.530002</td>\n",
       "      <td>70.030002</td>\n",
       "      <td>72.670076</td>\n",
       "      <td>72.380044</td>\n",
       "      <td>70.119932</td>\n",
       "      <td>67.610017</td>\n",
       "      <td>65.729868</td>\n",
       "      <td>74.451517</td>\n",
       "      <td>73.162897</td>\n",
       "      <td>66.463658</td>\n",
       "    </tr>\n",
       "  </tbody>\n",
       "</table>\n",
       "<p>2 rows × 75 columns</p>\n",
       "</div>"
      ],
      "text/plain": [
       "  country_name                                     indicator_name  1950  1951  \\\n",
       "0  Afghanistan  Annual average of central government debt (Per...   NaN   NaN   \n",
       "1      Albania  Annual average of central government debt (Per...   NaN   NaN   \n",
       "\n",
       "   1952  1953  1954  1955  1956  1957  ...       2013       2014       2015  \\\n",
       "0   NaN   NaN   NaN   NaN   NaN   NaN  ...   6.904479   8.700291   9.154083   \n",
       "1   NaN   NaN   NaN   NaN   NaN   NaN  ...  65.530002  70.030002  72.670076   \n",
       "\n",
       "        2016       2017       2018       2019       2020       2021       2022  \n",
       "0   8.437266   7.997660   7.384413   6.130410   7.397495        NaN        NaN  \n",
       "1  72.380044  70.119932  67.610017  65.729868  74.451517  73.162897  66.463658  \n",
       "\n",
       "[2 rows x 75 columns]"
      ]
     },
     "execution_count": 45,
     "metadata": {},
     "output_type": "execute_result"
    }
   ],
   "source": [
    "central_govdebt.head(2)"
   ]
  },
  {
   "cell_type": "code",
   "execution_count": 31,
   "id": "cd0223df-0a63-4434-b27e-6cf68fc7d823",
   "metadata": {},
   "outputs": [],
   "source": [
    "#Filter out to include only sample countries\n",
    "countries=['Afghanistan','Burundi','Burkina Faso','Sri Lanka','Bolivia','Kenya','Mexcico','China',\n",
    "           'Indonesia','Saudi Arabia','Germany','United States']"
   ]
  },
  {
   "cell_type": "code",
   "execution_count": 38,
   "id": "c2df60af-04e9-4729-b054-c154860a9d2c",
   "metadata": {},
   "outputs": [],
   "source": [
    "cgov_debt=central_govdebt[central_govdebt['country_name'].isin(countries)]"
   ]
  },
  {
   "cell_type": "code",
   "execution_count": 48,
   "id": "5bdd13ce-49db-4808-bacd-e87b6ff70c80",
   "metadata": {},
   "outputs": [
    {
     "data": {
      "text/html": [
       "<div>\n",
       "<style scoped>\n",
       "    .dataframe tbody tr th:only-of-type {\n",
       "        vertical-align: middle;\n",
       "    }\n",
       "\n",
       "    .dataframe tbody tr th {\n",
       "        vertical-align: top;\n",
       "    }\n",
       "\n",
       "    .dataframe thead th {\n",
       "        text-align: right;\n",
       "    }\n",
       "</style>\n",
       "<table border=\"1\" class=\"dataframe\">\n",
       "  <thead>\n",
       "    <tr style=\"text-align: right;\">\n",
       "      <th></th>\n",
       "      <th>2011</th>\n",
       "      <th>2012</th>\n",
       "      <th>2013</th>\n",
       "    </tr>\n",
       "  </thead>\n",
       "  <tbody>\n",
       "    <tr>\n",
       "      <th>0</th>\n",
       "      <td>7.501084</td>\n",
       "      <td>6.759468</td>\n",
       "      <td>6.904479</td>\n",
       "    </tr>\n",
       "    <tr>\n",
       "      <th>19</th>\n",
       "      <td>30.223498</td>\n",
       "      <td>29.087930</td>\n",
       "      <td>28.298954</td>\n",
       "    </tr>\n",
       "  </tbody>\n",
       "</table>\n",
       "</div>"
      ],
      "text/plain": [
       "         2011       2012       2013\n",
       "0    7.501084   6.759468   6.904479\n",
       "19  30.223498  29.087930  28.298954"
      ]
     },
     "execution_count": 48,
     "metadata": {},
     "output_type": "execute_result"
    }
   ],
   "source": [
    "cgov_debt.head(2)"
   ]
  },
  {
   "cell_type": "code",
   "execution_count": 47,
   "id": "ca041b0c-c1b5-41a6-82fc-bf994e162c29",
   "metadata": {},
   "outputs": [
    {
     "name": "stderr",
     "output_type": "stream",
     "text": [
      "C:\\Users\\User\\AppData\\Local\\Temp\\ipykernel_9224\\776089697.py:2: SettingWithCopyWarning: \n",
      "A value is trying to be set on a copy of a slice from a DataFrame\n",
      "\n",
      "See the caveats in the documentation: https://pandas.pydata.org/pandas-docs/stable/user_guide/indexing.html#returning-a-view-versus-a-copy\n",
      "  cgov_debt.drop(cgov_debt.iloc[:,3:59].columns, axis=1, inplace=True)\n"
     ]
    }
   ],
   "source": [
    "#now we drop columns of years outside our range of interest-2010-2022\n",
    "cgov_debt.drop(cgov_debt.iloc[:,3:59].columns, axis=1, inplace=True)"
   ]
  },
  {
   "cell_type": "code",
   "execution_count": null,
   "id": "f874de8c-9914-4b22-a78d-90e07fa92a33",
   "metadata": {},
   "outputs": [],
   "source": []
  },
  {
   "cell_type": "code",
   "execution_count": null,
   "id": "0c8b857e-d0dc-4614-8fdb-112dff449da5",
   "metadata": {},
   "outputs": [],
   "source": []
  },
  {
   "cell_type": "code",
   "execution_count": null,
   "id": "71df85cf-e267-409a-91cd-2c31b8ea5340",
   "metadata": {},
   "outputs": [],
   "source": []
  },
  {
   "cell_type": "code",
   "execution_count": null,
   "id": "1336b672-3f5a-45ae-b877-f63d1efc3d13",
   "metadata": {},
   "outputs": [],
   "source": []
  },
  {
   "cell_type": "code",
   "execution_count": null,
   "id": "152008e3-0f67-4c16-b323-045fd8ebce42",
   "metadata": {},
   "outputs": [],
   "source": []
  },
  {
   "cell_type": "code",
   "execution_count": null,
   "id": "4e0da06d-d7af-400a-a22f-76cd84cf3398",
   "metadata": {},
   "outputs": [],
   "source": []
  },
  {
   "cell_type": "code",
   "execution_count": null,
   "id": "09bc0897-3e57-4edd-a41e-c785e205148c",
   "metadata": {},
   "outputs": [],
   "source": []
  },
  {
   "cell_type": "code",
   "execution_count": null,
   "id": "edf4dcea-f413-4000-b76d-923f5da872ea",
   "metadata": {},
   "outputs": [],
   "source": []
  },
  {
   "cell_type": "code",
   "execution_count": null,
   "id": "bbf6346c-30bc-4929-a0d8-28e35324c657",
   "metadata": {},
   "outputs": [],
   "source": []
  },
  {
   "cell_type": "code",
   "execution_count": null,
   "id": "4d6db3c0-e0da-4a20-a87e-1cdb2dfa6f11",
   "metadata": {},
   "outputs": [],
   "source": []
  },
  {
   "cell_type": "code",
   "execution_count": null,
   "id": "d91b60ef-8892-4323-ad4d-6f8f70200dd1",
   "metadata": {},
   "outputs": [],
   "source": []
  }
 ],
 "metadata": {
  "kernelspec": {
   "display_name": "Python 3 (ipykernel)",
   "language": "python",
   "name": "python3"
  },
  "language_info": {
   "codemirror_mode": {
    "name": "ipython",
    "version": 3
   },
   "file_extension": ".py",
   "mimetype": "text/x-python",
   "name": "python",
   "nbconvert_exporter": "python",
   "pygments_lexer": "ipython3",
   "version": "3.11.4"
  }
 },
 "nbformat": 4,
 "nbformat_minor": 5
}
